{
 "cells": [
  {
   "cell_type": "markdown",
   "metadata": {},
   "source": [
    "# Sentiment analysis\n",
    "deep learning model for analysing sentiments."
   ]
  },
  {
   "cell_type": "markdown",
   "metadata": {},
   "source": [
    "## Requirement\n",
    " - Tensorflow\n",
    " - Keras\n",
    " - sklearn\n",
    " - pandas\n",
    " - Numpy"
   ]
  },
  {
   "cell_type": "code",
   "execution_count": 1,
   "metadata": {
    "scrolled": true
   },
   "outputs": [
    {
     "name": "stderr",
     "output_type": "stream",
     "text": [
      "Using TensorFlow backend.\n"
     ]
    }
   ],
   "source": [
    "from keras.layers import LSTM, Dense, Reshape, Conv2D, MaxPooling2D, Flatten, Bidirectional\n",
    "from keras.models import Sequential"
   ]
  },
  {
   "cell_type": "code",
   "execution_count": 2,
   "metadata": {
    "collapsed": true
   },
   "outputs": [],
   "source": [
    "import pandas as pd\n",
    "import numpy as np\n",
    "from sklearn.utils import shuffle"
   ]
  },
  {
   "cell_type": "code",
   "execution_count": 3,
   "metadata": {
    "collapsed": true
   },
   "outputs": [],
   "source": [
    "pos = pd.read_table('dataset/training.txt', names = ['y', 'x'])\n",
    "pos = shuffle(pos)\n",
    "data =pos['x']\n",
    "y = pos['y']"
   ]
  },
  {
   "cell_type": "code",
   "execution_count": 4,
   "metadata": {
    "collapsed": true
   },
   "outputs": [],
   "source": [
    "from keras.preprocessing.text import text_to_word_sequence, Tokenizer\n",
    "from keras.preprocessing.sequence import pad_sequences\n",
    "from keras.utils import to_categorical\n",
    "from keras.layers import Embedding, Input, TimeDistributed, Conv1D, MaxPool1D, Activation\n",
    "from keras.models import Model"
   ]
  },
  {
   "cell_type": "markdown",
   "metadata": {},
   "source": [
    "# Tokenizing sentence inputs\n",
    "`To keep tokens normalized, we use english word dataset`\n",
    "[https://github.com/dwyl/english-words](https://github.com/dwyl/english-words)"
   ]
  },
  {
   "cell_type": "code",
   "execution_count": 5,
   "metadata": {
    "collapsed": true
   },
   "outputs": [],
   "source": [
    "words = pd.read_table('dataset/words.txt', names = ['x'])\n",
    "words = words.astype(str)"
   ]
  },
  {
   "cell_type": "code",
   "execution_count": 8,
   "metadata": {},
   "outputs": [
    {
     "data": {
      "text/plain": [
       "482"
      ]
     },
     "execution_count": 8,
     "metadata": {},
     "output_type": "execute_result"
    }
   ],
   "source": [
    "tok.word_index['hell'] # These are always going to have contant indices"
   ]
  },
  {
   "cell_type": "markdown",
   "metadata": {},
   "source": [
    "# Making word sequence using Keras preprocessing functions\n",
    "\n",
    "`['hello', 'hi'], ['hi'] => [100, 200], [200, 0]`"
   ]
  },
  {
   "cell_type": "code",
   "execution_count": 7,
   "metadata": {
    "collapsed": true
   },
   "outputs": [],
   "source": [
    "tok = Tokenizer()\n",
    "tok.fit_on_texts(words['x'])\n",
    "seq  = tok.texts_to_sequences(data)\n",
    "\n",
    "v = len(tok.word_index)\n",
    "slice_len = 80"
   ]
  },
  {
   "cell_type": "code",
   "execution_count": 9,
   "metadata": {},
   "outputs": [
    {
     "data": {
      "text/plain": [
       "880"
      ]
     },
     "execution_count": 9,
     "metadata": {},
     "output_type": "execute_result"
    }
   ],
   "source": [
    "max_len = max([len(i) for i in seq])\n",
    "d = max_len / slice_len\n",
    "if int(d) < d:\n",
    "    max_len = int(d + 1) * slice_len\n",
    "max_len = int(max_len)\n",
    "padded = pad_sequences(seq, maxlen = max_len) #855 is divisible by 15\n",
    "max_len"
   ]
  },
  {
   "cell_type": "code",
   "execution_count": 10,
   "metadata": {
    "collapsed": true
   },
   "outputs": [],
   "source": [
    "xx = padded / v"
   ]
  },
  {
   "cell_type": "code",
   "execution_count": 11,
   "metadata": {
    "scrolled": true
   },
   "outputs": [
    {
     "data": {
      "text/plain": [
       "(3314    1\n",
       " 434     1\n",
       " 5502    0\n",
       " 5159    0\n",
       " 77      1\n",
       " 4665    0\n",
       " 4593    0\n",
       " 1679    1\n",
       " 1134    1\n",
       " 4695    0\n",
       " 3468    1\n",
       " 2668    1\n",
       " 3311    1\n",
       " 4740    0\n",
       " 1978    1\n",
       " 5540    0\n",
       " 1170    1\n",
       " 3218    1\n",
       " 1433    1\n",
       " 2442    1\n",
       " 1766    1\n",
       " 1156    1\n",
       " 3542    1\n",
       " 4726    0\n",
       " 4287    0\n",
       " 3107    1\n",
       " 6376    0\n",
       " 2216    1\n",
       " 2913    1\n",
       " 5205    0\n",
       "        ..\n",
       " 4160    0\n",
       " 2792    1\n",
       " 1362    1\n",
       " 6343    0\n",
       " 6217    0\n",
       " 3946    0\n",
       " 5145    0\n",
       " 5299    0\n",
       " 6635    0\n",
       " 3892    1\n",
       " 2150    1\n",
       " 1912    1\n",
       " 5955    0\n",
       " 3655    1\n",
       " 4315    0\n",
       " 5518    0\n",
       " 5541    0\n",
       " 4192    0\n",
       " 5294    0\n",
       " 6827    0\n",
       " 3082    1\n",
       " 6834    0\n",
       " 2007    1\n",
       " 4871    0\n",
       " 3030    1\n",
       " 5363    0\n",
       " 6860    0\n",
       " 2586    1\n",
       " 6866    0\n",
       " 1315    1\n",
       " Name: y, Length: 6918, dtype: int64, array([[ 0.,  1.],\n",
       "        [ 0.,  1.],\n",
       "        [ 1.,  0.],\n",
       "        ..., \n",
       "        [ 0.,  1.],\n",
       "        [ 1.,  0.],\n",
       "        [ 0.,  1.]]))"
      ]
     },
     "execution_count": 11,
     "metadata": {},
     "output_type": "execute_result"
    }
   ],
   "source": [
    "yy = to_categorical(y, num_classes=2)\n",
    "y,yy"
   ]
  },
  {
   "cell_type": "code",
   "execution_count": 12,
   "metadata": {
    "collapsed": true
   },
   "outputs": [],
   "source": [
    "yz = yy.reshape((6918, 1, 2))"
   ]
  },
  {
   "cell_type": "code",
   "execution_count": 13,
   "metadata": {
    "collapsed": true
   },
   "outputs": [],
   "source": [
    "xx.shape, yy.shape,\n",
    "xz = xx.reshape((6918, int(max_len//slice_len), slice_len))"
   ]
  },
  {
   "cell_type": "markdown",
   "metadata": {},
   "source": [
    "# Deeplearning model\n",
    "MLP -> Bidirection LSTM -> fully connected layers -> output"
   ]
  },
  {
   "cell_type": "code",
   "execution_count": 14,
   "metadata": {},
   "outputs": [
    {
     "name": "stdout",
     "output_type": "stream",
     "text": [
      "_________________________________________________________________\n",
      "Layer (type)                 Output Shape              Param #   \n",
      "=================================================================\n",
      "dense_1 (Dense)              (None, None, 1024)        82944     \n",
      "_________________________________________________________________\n",
      "bidirectional_1 (Bidirection (None, 1024)              6295552   \n",
      "_________________________________________________________________\n",
      "dense_2 (Dense)              (None, 512)               524800    \n",
      "_________________________________________________________________\n",
      "dense_3 (Dense)              (None, 512)               262656    \n",
      "_________________________________________________________________\n",
      "dense_4 (Dense)              (None, 2)                 1026      \n",
      "=================================================================\n",
      "Total params: 7,166,978\n",
      "Trainable params: 7,166,978\n",
      "Non-trainable params: 0\n",
      "_________________________________________________________________\n"
     ]
    }
   ],
   "source": [
    "model = Sequential()  \n",
    "\n",
    "model.add(Dense(input_shape = (None, slice_len), units = 1024))\n",
    "model.add(Bidirectional(LSTM(input_shape = (None, slice_len), units = 512, dropout = 0.3, activation = 'relu')))\n",
    "model.add(Dense(units = 512, activation='tanh'))\n",
    "model.add(Dense(units = 512, activation='sigmoid'))\n",
    "model.add(Dense(2, activation='sigmoid'))\n",
    "# model.add(Activation(\"sigmoid\"))\n",
    "model.compile(optimizer='rmsprop', loss='mse', metrics=['accuracy'])\n",
    "hists = []\n",
    "model.summary()\n"
   ]
  },
  {
   "cell_type": "markdown",
   "metadata": {},
   "source": [
    "# Load weights \n",
    "loading weights of model trained yesterday to continue training/testing/deploying today."
   ]
  },
  {
   "cell_type": "code",
   "execution_count": 15,
   "metadata": {
    "collapsed": true
   },
   "outputs": [],
   "source": [
    "model.load_weights('model_56.hdf')"
   ]
  },
  {
   "cell_type": "markdown",
   "metadata": {},
   "source": [
    "## Making training and evaluation batches"
   ]
  },
  {
   "cell_type": "code",
   "execution_count": 16,
   "metadata": {
    "collapsed": true
   },
   "outputs": [],
   "source": [
    "x_train = xz[:6000]\n",
    "y_train = yy[:6000]\n",
    "x_val = xz[6000:]\n",
    "y_val = yy[6000:]\n"
   ]
  },
  {
   "cell_type": "markdown",
   "metadata": {},
   "source": [
    "## Train the model"
   ]
  },
  {
   "cell_type": "code",
   "execution_count": 60,
   "metadata": {
    "collapsed": true
   },
   "outputs": [],
   "source": [
    "from IPython.display import clear_output\n"
   ]
  },
  {
   "cell_type": "code",
   "execution_count": 74,
   "metadata": {
    "collapsed": true,
    "scrolled": true
   },
   "outputs": [],
   "source": [
    "for i in range(10):\n",
    "    hist = model.fit(x_train, y_train, \n",
    "                     batch_size=50, \n",
    "                     epochs = 10, \n",
    "                     verbose = 1,\n",
    "                     shuffle = True,\n",
    "                     validation_data = (x_val, y_val)\n",
    "                    )\n",
    "    hists.append(hist)\n",
    "    clear_output()\n",
    "    model.save_weights('model_56.hdf')"
   ]
  },
  {
   "cell_type": "code",
   "execution_count": 19,
   "metadata": {
    "collapsed": true
   },
   "outputs": [],
   "source": [
    "import matplotlib.pyplot as plt"
   ]
  },
  {
   "cell_type": "markdown",
   "metadata": {},
   "source": [
    "## Training hostory/improvement stats"
   ]
  },
  {
   "cell_type": "code",
   "execution_count": 73,
   "metadata": {},
   "outputs": [
    {
     "data": {
      "text/plain": [
       "([0.93816666454076769,\n",
       "  0.95149999757607773,\n",
       "  0.95216666360696156,\n",
       "  0.95399999966224036,\n",
       "  0.95733333329359693,\n",
       "  0.95583333124717074,\n",
       "  0.95849999884764359,\n",
       "  0.96016666640837989,\n",
       "  0.96216666400432582,\n",
       "  0.95866666634877518],\n",
       " [0.049095799435842004,\n",
       "  0.038467176460350555,\n",
       "  0.037842561353075628,\n",
       "  0.036349663701063642,\n",
       "  0.034848105323908384,\n",
       "  0.034695388287703584,\n",
       "  0.033138132838939779,\n",
       "  0.032082951263873838,\n",
       "  0.031025371246020464,\n",
       "  0.031816009928297716])"
      ]
     },
     "execution_count": 73,
     "metadata": {},
     "output_type": "execute_result"
    }
   ],
   "source": [
    "\n",
    "acc, loss"
   ]
  },
  {
   "cell_type": "markdown",
   "metadata": {},
   "source": [
    "## Predicting output of model with evaluation data"
   ]
  },
  {
   "cell_type": "code",
   "execution_count": 18,
   "metadata": {},
   "outputs": [],
   "source": [
    "xd = data[6000:]\n",
    "result = list(zip(model.predict(x_val), xd))"
   ]
  },
  {
   "cell_type": "code",
   "execution_count": 27,
   "metadata": {},
   "outputs": [
    {
     "data": {
      "text/plain": [
       "(11, 80)"
      ]
     },
     "execution_count": 27,
     "metadata": {},
     "output_type": "execute_result"
    }
   ],
   "source": [
    "new = pd.read_table('dataset/kaggle.txt', names = ['x'])['x'][0]"
   ]
  },
  {
   "cell_type": "code",
   "execution_count": 54,
   "metadata": {},
   "outputs": [
    {
     "data": {
      "text/plain": [
       "array([[ 0.49366254,  0.49231741]], dtype=float32)"
      ]
     },
     "execution_count": 54,
     "metadata": {},
     "output_type": "execute_result"
    }
   ],
   "source": [
    "def getData(string):\n",
    "    seq_new  = tok.texts_to_sequences([string])\n",
    "\n",
    "    max_len = max([len(i) for i in seq])\n",
    "    d = max_len / slice_len\n",
    "    if int(d) < d:\n",
    "        max_len = int(d + 1) * slice_len\n",
    "    max_len = int(max_len)\n",
    "    padded = pad_sequences(seq_new, maxlen = max_len) #855 is divisible by 15\n",
    "    xx = padded / v\n",
    "    xx = xx.reshape((1,max_len//slice_len,slice_len))\n",
    "    return xx\n",
    "    \n",
    "test = getData(\"that guy sucked\")\n",
    "\n",
    "model.predict(test)"
   ]
  },
  {
   "cell_type": "code",
   "execution_count": 48,
   "metadata": {
    "scrolled": false
   },
   "outputs": [
    {
     "data": {
      "text/plain": [
       "3314                        I love Brokeback Mountain....\n",
       "434                 da vinci code was an awesome movie...\n",
       "5502                                 I hate Harry Potter.\n",
       "5159         Is it just me, or does Harry Potter suck?...\n",
       "77                              i LOVE the da vinci code!\n",
       "4665                                 Da Vinci Code sucks.\n",
       "4593    i heard da vinci code sucked soo much only 2.5...\n",
       "1679    Which is why i said silent hill turned into re...\n",
       "1134    Hey, Mission Impossible 3 is AWESOME!!!!!!!!!!...\n",
       "4695                                 Da Vinci Code sucks.\n",
       "3468                      man i loved brokeback mountain!\n",
       "2668                                 I love Harry Potter.\n",
       "3311       Anyway, thats why I love \" Brokeback Mountain.\n",
       "4740                   The Da Vinci Code sucked big time.\n",
       "1978    we're gonna like watch Mission Impossible or H...\n",
       "5540    Always knows what I want, not guy crazy, hates...\n",
       "1170    I like MISSION IMPOSSIBLE but I hate Tom Cruis...\n",
       "3218                      man i loved brokeback mountain!\n",
       "1433    So as felicia's mom is cleaning the table, fel...\n",
       "2442    I want to be here because I love Harry Potter,...\n",
       "1766    i love kirsten / leah / kate escapades and mis...\n",
       "1156    I just have to say that the new Mission Imposs...\n",
       "3542                  Brokeback mountain was beautiful...\n",
       "4726    friday hung out with kelsie and we went and sa...\n",
       "4287    Combining the opinion / review from Gary and G...\n",
       "3107                         awesome Brokeback Mountain!!\n",
       "6376      Ok brokeback mountain is such a horrible movie.\n",
       "2216    Harry Potter is AWESOME I don't care if anyone...\n",
       "2913    I love the Harry Potter series if you can coun...\n",
       "5205               These Harry Potter movies really suck.\n",
       "                              ...                        \n",
       "4160                   The Da Vinci Code sucked big time.\n",
       "2792    I want to be here because I love Harry Potter,...\n",
       "1362                  Mission Impossible 3 was excellent.\n",
       "6343                       Brokeback Mountain was boring.\n",
       "6217     Oh, and Brokeback Mountain was a terrible movie.\n",
       "3946    i thought the da vinci code movie was really b...\n",
       "5145    So Harry Potter day was canceled, or, rather, ...\n",
       "5299         Is it just me, or does Harry Potter suck?...\n",
       "6635    As I sit here, watching the MTV Movie Awards, ...\n",
       "3892                  Brokeback mountain was beautiful...\n",
       "2150    Since I had never read a book that was not in ...\n",
       "1912                  Mission Impossible 3 was excellent.\n",
       "5955                           Brokeback Mountain sucked.\n",
       "3655    He's like,'YEAH I GOT ACNE AND I LOVE BROKEBAC...\n",
       "4315                                 Da Vinci Code sucks.\n",
       "5518    I hate Harry Potter, it's retarted, gay and st...\n",
       "5541    I think I hate Harry Potter because it outshin...\n",
       "4192    by the way, the Da Vinci Code sucked, just let...\n",
       "5294    Harry Potter dragged Draco Malfoy ’ s trousers...\n",
       "6827     Oh, and Brokeback Mountain was a terrible movie.\n",
       "3082                     but I loved Brokeback Mountain!.\n",
       "6834         So Brokeback Mountain was really depressing.\n",
       "2007                 I just love the Harry Potter series.\n",
       "4871    Da Vinci Code = Up, Up, Down, Down, Left, Righ...\n",
       "3030    I loved Brokeback Mountain, Good Night and Goo...\n",
       "5363    Not because I hate Harry Potter, but because I...\n",
       "6860    , she helped me bobbypin my insanely cool hat ...\n",
       "2586    Harry Potter is AWESOME I don't care if anyone...\n",
       "6866      Ok brokeback mountain is such a horrible movie.\n",
       "1315    the last stand and Mission Impossible 3 both w...\n",
       "Name: x, Length: 6918, dtype: object"
      ]
     },
     "execution_count": 48,
     "metadata": {},
     "output_type": "execute_result"
    }
   ],
   "source": [
    "data"
   ]
  },
  {
   "cell_type": "code",
   "execution_count": null,
   "metadata": {
    "collapsed": true
   },
   "outputs": [],
   "source": [
    "p"
   ]
  },
  {
   "cell_type": "code",
   "execution_count": 71,
   "metadata": {
    "collapsed": true
   },
   "outputs": [],
   "source": [
    "acc, loss = [], []\n",
    "for i in hists:\n",
    "    acc += i.history['acc'][:]\n",
    "    loss += i.history['loss'][:]\n"
   ]
  },
  {
   "cell_type": "markdown",
   "metadata": {},
   "source": [
    "## Let's plot metrics\n",
    " - Accuracy\n",
    " - Loss"
   ]
  },
  {
   "cell_type": "code",
   "execution_count": 82,
   "metadata": {},
   "outputs": [
    {
     "data": {
      "image/png": "[encoded data removed]",
      "text/plain": [
       "<matplotlib.figure.Figure at 0x7f454521c400>"
      ]
     },
     "metadata": {},
     "output_type": "display_data"
    },
    {
     "data": {
      "image/png": "[encoded data removed]",
      "text/plain": [
       "<matplotlib.figure.Figure at 0x7f4545110a58>"
      ]
     },
     "metadata": {},
     "output_type": "display_data"
    }
   ],
   "source": [
    "ax = plt.axis()\n",
    "plt.axis(ax)\n",
    "# plt.figure(figsize=(5, 5))\n",
    "# plt.suptitle(\"hello\")\n",
    "plt.plot(acc, label = 'accuracy')\n",
    "plt.legend()\n",
    "plt.show()\n",
    "plt.plot(loss, label = 'loss')\n",
    "plt.legend()\n",
    "plt.show()"
   ]
  },
  {
   "cell_type": "code",
   "execution_count": null,
   "metadata": {
    "collapsed": true
   },
   "outputs": [],
   "source": []
  }
 ],
 "metadata": {
  "kernelspec": {
   "display_name": "Python 3",
   "language": "python",
   "name": "python3"
  },
  "language_info": {
   "codemirror_mode": {
    "name": "ipython",
    "version": 3
   },
   "file_extension": ".py",
   "mimetype": "text/x-python",
   "name": "python",
   "nbconvert_exporter": "python",
   "pygments_lexer": "ipython3",
   "version": "3.5.2"
  }
 },
 "nbformat": 4,
 "nbformat_minor": 2
}
